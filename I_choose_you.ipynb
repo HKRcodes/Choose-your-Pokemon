{
  "nbformat": 4,
  "nbformat_minor": 0,
  "metadata": {
    "colab": {
      "provenance": [],
      "authorship_tag": "ABX9TyOqrsgBE5zP81eWEV15yIfr",
      "include_colab_link": true
    },
    "kernelspec": {
      "name": "python3",
      "display_name": "Python 3"
    },
    "language_info": {
      "name": "python"
    }
  },
  "cells": [
    {
      "cell_type": "markdown",
      "metadata": {
        "id": "view-in-github",
        "colab_type": "text"
      },
      "source": [
        "<a href=\"https://colab.research.google.com/github/HKRcodes/Choose-your-Pokemon/blob/main/I_choose_you.ipynb\" target=\"_parent\"><img src=\"https://colab.research.google.com/assets/colab-badge.svg\" alt=\"Open In Colab\"/></a>"
      ]
    },
    {
      "cell_type": "code",
      "source": [
        "import pandas as pd\n",
        "from sklearn.neighbors import KNeighborsClassifier\n",
        "from sklearn.preprocessing import LabelEncoder\n",
        "\n",
        "# Read the dataset\n",
        "df = pd.read_csv('/content/Pokemon.csv')\n",
        "\n",
        "# Remove unnecessary columns\n",
        "df.drop(['#', 'Generation', 'Legendary'], axis=1, inplace=True)\n",
        "\n",
        "# Fill missing values with None\n",
        "df['Type 2'] = df['Type 2'].fillna('None')\n",
        "\n",
        "# Convert non-numeric categorical variables to numerical features using label encoding\n",
        "label_encoder = LabelEncoder()\n",
        "for col in ['Type 1', 'Type 2']:\n",
        "    df[col] = label_encoder.fit_transform(df[col])\n",
        "\n",
        "# Split data into features and target\n",
        "X = df.drop(['Name'], axis=1)\n",
        "y = df['Name']\n",
        "\n",
        "# Train the KNN classifier\n",
        "k = 5  # Number of neighbors to consider\n",
        "model = KNeighborsClassifier(n_neighbors=k)\n",
        "model.fit(X, y)\n",
        "\n",
        "# Knowing the opponent's pokemon\n",
        "Opponent_pokemon = input(\"Enter the opponent's pokemon : \")\n",
        "print(f\"\\nGive the features of {Opponent_pokemon}\\n\")\n",
        "# Prompt user to input data for a new Pokémon\n",
        "new_pokemon = {}\n",
        "for feature in X.columns:\n",
        "    value = input(f\"{feature}: \")\n",
        "    if value.isdigit():\n",
        "        new_pokemon[feature] = int(value)\n",
        "    else:\n",
        "        val_array = [value]\n",
        "        value = label_encoder.transform(val_array)[0]\n",
        "        new_pokemon[feature] = value\n",
        "\n",
        "# Convert the new Pokémon data to a dataframe\n",
        "new_pokemon_df = pd.DataFrame([new_pokemon])\n",
        "\n",
        "# Use the trained model to find the most suitable Pokémon to battle\n",
        "predicted_pokemon = model.predict(new_pokemon_df)\n",
        "\n",
        "print(\"\\nThe Opponent chose \",Opponent_pokemon)\n",
        "\n",
        "# Print the name of the most suitable Pokémon\n",
        "print(f\"\\nThe best pokemon to battle {Opponent_pokemon} is \")\n",
        "print(predicted_pokemon[0])\n",
        "\n",
        "# Get the details of the predicted Pokémon\n",
        "predicted_pokemon_details = df.loc[df['Name'] == predicted_pokemon[0]].squeeze()\n",
        "\n",
        "# Decode the encoded values for \"Type 1\" and \"Type 2\"\n",
        "predicted_pokemon_details['Type 1'] = label_encoder.inverse_transform([predicted_pokemon_details['Type 1']])[0]\n",
        "predicted_pokemon_details['Type 2'] = label_encoder.inverse_transform([predicted_pokemon_details['Type 2']])[0]\n",
        "\n",
        "# Print the details of the predicted Pokémon\n",
        "print(f\"\\nFeatures of {predicted_pokemon[0]} \\n\")\n",
        "for feature, value in predicted_pokemon_details.items():\n",
        "    print(f\"{feature}: {value}\")\n",
        "\n",
        "# Alternatively, you can directly print the predicted Pokémon details as a pandas Series\n",
        "print(f\"\\nYou shall choose {predicted_pokemon[0]} to win!\")\n"
      ],
      "metadata": {
        "colab": {
          "base_uri": "https://localhost:8080/"
        },
        "id": "zyj50LgdjRdc",
        "outputId": "dc35231a-0ae5-463e-ba83-28f7d9035793"
      },
      "execution_count": 2,
      "outputs": [
        {
          "output_type": "stream",
          "name": "stdout",
          "text": [
            "Enter the opponent's pokemon : Ash-Greninja\n",
            "\n",
            "Give the features of Ash-Greninja\n",
            "\n",
            "Type 1: Water\n",
            "Type 2: Dark\n",
            "Total: 640\n",
            "HP: 72\n",
            "Attack: 145\n",
            "Defense: 67\n",
            "Sp. Atk: 153\n",
            "Sp. Def: 71\n",
            "Speed: 132\n",
            "\n",
            "The Opponent chose  Ash-Greninja\n",
            "\n",
            "The best pokemon to battle Ash-Greninja is \n",
            "Deoxys Normal Forme\n",
            "\n",
            "Features of Deoxys Normal Forme \n",
            "\n",
            "Name: Deoxys Normal Forme\n",
            "Type 1: Poison\n",
            "Type 2: None\n",
            "Total: 600\n",
            "HP: 50\n",
            "Attack: 150\n",
            "Defense: 50\n",
            "Sp. Atk: 150\n",
            "Sp. Def: 50\n",
            "Speed: 150\n",
            "\n",
            "You shall choose Deoxys Normal Forme to win!\n"
          ]
        }
      ]
    }
  ]
}